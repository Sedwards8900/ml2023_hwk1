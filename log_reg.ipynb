{
 "cells": [
  {
   "cell_type": "code",
   "execution_count": null,
   "metadata": {},
   "outputs": [],
   "source": [
    "import numpy\n",
    "import pandas\n",
    "import scypy as scy"
   ]
  },
  {
   "cell_type": "code",
   "execution_count": null,
   "metadata": {},
   "outputs": [],
   "source": [
    "'''\n",
    "\n",
    "Question:\n",
    "how do we get started with setting up the coding part with the data for \n",
    "question 4 and 5? i dont know how to do this question would like some guidence on it.\n",
    "\n",
    "Answer from professor:\n",
    "You can load the mat file in python using 'loadmat' function. \n",
    "\n",
    "e.g., mat = scipy.io.loadmat('data_breastcancer.mat')\n",
    "\n",
    "'''"
   ]
  },
  {
   "cell_type": "code",
   "execution_count": null,
   "metadata": {},
   "outputs": [],
   "source": [
    "#Starter code given by professor\n",
    "# You can assign the variable by the following:\n",
    "\n",
    "#Load the data file\n",
    "mat=scy.io.loadmat('data_breastcancer.mat')\n",
    "\n",
    "#Number of samples\n",
    "n = mat['data']['n'][0][0][0][0]\n",
    "\n",
    "#Number of attributes\n",
    "d = mat['data']['d'][0][0][0][0]\n",
    "\n",
    "#Input data\n",
    "X = mat['data']['X'][0][0]\n",
    "\n",
    "#Output labels\n",
    "Y = mat['data']['X'][0][0].flatten()"
   ]
  }
 ],
 "metadata": {
  "kernelspec": {
   "display_name": "Python 3",
   "language": "python",
   "name": "python3"
  },
  "language_info": {
   "name": "python",
   "version": "3.10.6"
  },
  "orig_nbformat": 4,
  "vscode": {
   "interpreter": {
    "hash": "b0fa6594d8f4cbf19f97940f81e996739fb7646882a419484c72d19e05852a7e"
   }
  }
 },
 "nbformat": 4,
 "nbformat_minor": 2
}
